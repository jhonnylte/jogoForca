{
 "cells": [
  {
   "cell_type": "code",
   "execution_count": 2,
   "id": "3fab734a",
   "metadata": {},
   "outputs": [],
   "source": [
    "lista = ['abelha', 'Alemanha', 'árvore', 'alegre', 'atadura', 'bexiga', 'bateria', 'boliche', 'beterraba','comércio', 'caixa','chapéu', 'colírio', 'colete', 'cimento','dente', 'dormitório', 'domesticar', 'diarista','fogueira', 'felicidade', 'formidável', 'frutífero', 'formigueiro']"
   ]
  },
  {
   "cell_type": "code",
   "execution_count": 16,
   "id": "004ee4f8",
   "metadata": {},
   "outputs": [],
   "source": [
    "import random"
   ]
  },
  {
   "cell_type": "code",
   "execution_count": 26,
   "id": "80fa461e",
   "metadata": {},
   "outputs": [],
   "source": [
    "def palavraAleatoria():\n",
    "    valor = random.randint(0, len(lista)-1) # Pega um valor aletório de 0 até a última posição da lista de palavras\n",
    "    return lista[valor] # Volta a palavra que está na posição do número aleatório"
   ]
  },
  {
   "cell_type": "code",
   "execution_count": 27,
   "id": "e94b4f1e",
   "metadata": {},
   "outputs": [
    {
     "data": {
      "text/plain": [
       "'domesticar'"
      ]
     },
     "execution_count": 27,
     "metadata": {},
     "output_type": "execute_result"
    }
   ],
   "source": [
    "palavraAleatoria()"
   ]
  }
 ],
 "metadata": {
  "kernelspec": {
   "display_name": "Python 3 (ipykernel)",
   "language": "python",
   "name": "python3"
  },
  "language_info": {
   "codemirror_mode": {
    "name": "ipython",
    "version": 3
   },
   "file_extension": ".py",
   "mimetype": "text/x-python",
   "name": "python",
   "nbconvert_exporter": "python",
   "pygments_lexer": "ipython3",
   "version": "3.9.13"
  }
 },
 "nbformat": 4,
 "nbformat_minor": 5
}
