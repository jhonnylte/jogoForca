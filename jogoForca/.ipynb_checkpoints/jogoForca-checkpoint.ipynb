{
 "cells": [
  {
   "cell_type": "code",
   "execution_count": 11,
   "id": "f213ac22",
   "metadata": {},
   "outputs": [],
   "source": [
    "%run banco.ipynb # Importa o banco de palavras e a função de pegar uma aleatória\n"
   ]
  },
  {
   "cell_type": "code",
   "execution_count": 12,
   "id": "c94fa4ae",
   "metadata": {},
   "outputs": [
    {
     "data": {
      "text/plain": [
       "'fogueira'"
      ]
     },
     "execution_count": 12,
     "metadata": {},
     "output_type": "execute_result"
    }
   ],
   "source": [
    "palavraAleatoria()"
   ]
  },
  {
   "cell_type": "code",
   "execution_count": 13,
   "id": "7a75122a",
   "metadata": {},
   "outputs": [],
   "source": [
    "from IPython.display import clear_output"
   ]
  },
  {
   "cell_type": "code",
   "execution_count": 14,
   "id": "c6d76e88",
   "metadata": {},
   "outputs": [],
   "source": [
    "niveisForca = ['________\\n|      |\\n|\\n|\\n|\\n|', \n",
    "               '________\\n|      |\\n|      O\\n|\\n|\\n|', \n",
    "               '________\\n|      |\\n|      O\\n|      |\\n|\\n|',\n",
    "               '________\\n|      |\\n|      O\\n|     /|\\n|\\n|',\n",
    "               '________\\n|      |\\n|      O\\n|     /|\\ \\n|\\n|',\n",
    "               '________\\n|      |\\n|      O\\n|     /|\\ \\n|     /  \\n|',\n",
    "               '________\\n|      |\\n|      O\\n|     /|\\ \\n|     / \\ \\n|'\n",
    "              ]"
   ]
  },
  {
   "cell_type": "code",
   "execution_count": 26,
   "id": "e5d32193",
   "metadata": {},
   "outputs": [],
   "source": [
    "class Forca:\n",
    "    def __init__(self, resposta):\n",
    "        self.resposta = resposta\n",
    "        self.chances = 6\n",
    "        self.palavra = ['_']*len(resposta)\n",
    "        self.letrasUsadas = []\n",
    "        self.totalMatchs = 0 # Total de letras descobertas\n",
    "    def mostrar(self):\n",
    "        if self.chances >= 0:\n",
    "            print(niveisForca[6-self.chances])\n",
    "            resultado = ''\n",
    "            print(resultado.join(self.palavra)) # string.join(itr) pega todos os elementos do itr e insere na str.    \n",
    "    def jogar(self):\n",
    "        if self.totalMatchs < len(self.resposta): # Se o total de letras acertadas for menor que o tamanho da resposta\n",
    "            if self.chances > 0: ####\n",
    "                self.mostrar()\n",
    "                print('Escolha uma letra: ')\n",
    "                tentativa = input()\n",
    "                if (len(tentativa)>1) or (len(tentativa)<1):\n",
    "                    clear_output()\n",
    "                    print('Quantidade de caracteres inválida! Digite apenas um:')\n",
    "                    return self.jogar()\n",
    "                elif self.letrasUsadas.count(tentativa.lower()) == 0: # Caso a letra não tenham sido tentada ainda\n",
    "                        self.letrasUsadas.append(tentativa.lower()) # Registra que ela foi usada\n",
    "                        matchs = 0 # Comparação entre letra tentada e letras da resposta, cada vez que for =, dá 1 match\n",
    "                        for i in range(len(self.resposta)):\n",
    "                            if self.resposta[i].lower() == tentativa.lower():\n",
    "                                self.palavra[i] = tentativa.lower() \n",
    "                                matchs += 1\n",
    "                                self.totalMatchs += 1\n",
    "                        if matchs == 0:\n",
    "                            clear_output()\n",
    "                            print('A resposta não contém: '+tentativa.lower())\n",
    "                            self.chances -= 1\n",
    "                            if self.chances < 0:\n",
    "                                print('Game over!')\n",
    "                            else:\n",
    "                                print('Chances: '+str(self.chances))\n",
    "                                return self.jogar()\n",
    "                        clear_output()\n",
    "                        return self.jogar()\n",
    "                else:\n",
    "                    clear_output()\n",
    "                    print('A letra já foi usada anteriormente!')\n",
    "                    return self.jogar()\n",
    "            print(niveisForca[6])\n",
    "            resultado = ''\n",
    "            print(resultado.join(self.palavra))\n",
    "            print('Game over!')\n",
    "            print('A resposta era: '+self.resposta)\n",
    "        else:\n",
    "            clear_output()\n",
    "            self.mostrar()\n",
    "            print('Você acertou!')"
   ]
  },
  {
   "cell_type": "code",
   "execution_count": 27,
   "id": "df24307c",
   "metadata": {},
   "outputs": [
    {
     "name": "stdout",
     "output_type": "stream",
     "text": [
      "________\n",
      "|      |\n",
      "|\n",
      "|\n",
      "|\n",
      "|\n",
      "chapéu\n",
      "Você acertou!\n"
     ]
    }
   ],
   "source": [
    "a = Forca(palavraAleatoria())\n",
    "a.jogar()"
   ]
  },
  {
   "cell_type": "code",
   "execution_count": null,
   "id": "43df083d",
   "metadata": {},
   "outputs": [],
   "source": []
  }
 ],
 "metadata": {
  "kernelspec": {
   "display_name": "Python 3 (ipykernel)",
   "language": "python",
   "name": "python3"
  },
  "language_info": {
   "codemirror_mode": {
    "name": "ipython",
    "version": 3
   },
   "file_extension": ".py",
   "mimetype": "text/x-python",
   "name": "python",
   "nbconvert_exporter": "python",
   "pygments_lexer": "ipython3",
   "version": "3.9.13"
  }
 },
 "nbformat": 4,
 "nbformat_minor": 5
}
